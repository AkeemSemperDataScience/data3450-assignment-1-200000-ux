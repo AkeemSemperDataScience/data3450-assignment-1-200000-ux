{
 "cells": [
  {
   "cell_type": "markdown",
   "id": "7b343be4",
   "metadata": {},
   "source": [
    "# Assignment #1 - Basic Data Exploration, Visualization, and Analysis\n",
    "\n",
    "## Assignment Overview\n",
    "\n",
    "In this assignment you'll load some data into a python notebook, and use some basic functions to do some basic analysis. Each section asks you to either calculate some answers or explore some information found in the data. When generating your answers, try to think about a few factors that can make your code better:\n",
    "<ul>\n",
    "<li> Present the answers clearly. Use the markdown cells, code comments, and formatting to help make your answers readable. One of the features of notebooks is that they allow us to combine code and commentary, and we need to ensure both are readable. Refer to the guide in the guides folder of the exercises workbook for an explaination and examples of different formatting. \n",
    "<li> Make your code clear. It is easy to make sense of small pieces of code, for short periods of time, so if your code makes little sense here, it won't really hurt your ability to find the answers. If you need to come back to it later, or others need to edit it, having code that doesn't make sense is a big issue. Use things like clearly named variables, comments, and spacing to make things readable. Even in this course, if you are looking back to something from 2 months ago for the project, it is far easier to understand code that is cleaned up a little. \n",
    "<li> Structure the code well. If there is some kind of repetitive task, it should likely be moved into a function. If there is something that happens several times, it should be in a loop. Having well structured code makes it easy to reuse stuff later, understand how things work, debug errors, and share code with others. This is something to keep in the back of your minds, right now you may not have much experience to lean on to judge how things should be, as you read, adjust, and write code it will become more clear. \n",
    "</ul>\n",
    "\n",
    "## Grading\n",
    "\n",
    "This assignment will be graded in two portions:\n",
    "<ul>\n",
    "<li> 50% - Correctness and functionality. Parts of the assignment (the functions you are asked to write) will be graded on whether they work correctly and generate correct answers. </li>\n",
    "<li> 50% -Analysis and presentation. Parts of the assignment (the markdown cells you are asked to fill in) will be graded on whether they present the answers clearly, and whether the analysis is correct. </li>\n",
    "</ul>"
   ]
  },
  {
   "cell_type": "markdown",
   "id": "abe560b3",
   "metadata": {},
   "source": [
    "## Load Data"
   ]
  },
  {
   "cell_type": "code",
   "execution_count": null,
   "id": "dddd213b",
   "metadata": {},
   "outputs": [],
   "source": [
    "import pandas as pd\n",
    "import numpy as np\n",
    "import seaborn as sns\n",
    "import asn1_function_sheet as afs\n",
    "\n",
    "try:\n",
    "    df = pd.read_csv(\"LabourTrainingEvaluationData.csv\")\n",
    "except FileNotFoundError:\n",
    "    df = pd.read_csv(\"../data/LabourTrainingEvaluationData.csv\")\n",
    "df[\"Nodeg\"].astype('category', copy=False)\n",
    "df.head()"
   ]
  },
  {
   "cell_type": "code",
   "execution_count": null,
   "id": "7c54e427",
   "metadata": {},
   "outputs": [],
   "source": [
    "df.describe()"
   ]
  },
  {
   "cell_type": "markdown",
   "id": "9a8cc380",
   "metadata": {},
   "source": [
    "### Part 1\n",
    "\n",
    "<ol>\n",
    "<li> Create a function called age_splitter that takes a dataframe, a column name, and an age threshold as input. The function should return two dataframes, one with all the rows where the age in the specified column is below the threshold, and one with all the rows where the age in the specified column is above or equal to the threshold. </li>\n",
    "<li> Use this function to calculate the percentage of people in the dataset that are below 30 years old. </li>\n",
    "<li> Use this function to compare the 1978 earnings of the two groups to see which is larger - show this arithmatically as well as visually. </li>\n",
    "</ol>"
   ]
  },
  {
   "cell_type": "code",
   "execution_count": null,
   "id": "cf819e64",
   "metadata": {},
   "outputs": [],
   "source": [
    "# 1 - Demo of function\n",
    "\n",
    "\n",
    "# 2 Percentage Under 30\n",
    "\n",
    "\n",
    "# 3 - 1978 Earnings Comparison\n"
   ]
  },
  {
   "cell_type": "markdown",
   "id": "ae8751ed",
   "metadata": {},
   "source": [
    "### Part 2\n",
    "\n",
    "<ol>\n",
    "<li>Create a function in the .py file called cohortCompare that takes two arguments - a dataframe and a list of categorical column names. The function should return a dictonary of the key statistics of each numerical columns and counts for categorical columns.</li>\n",
    "    <ul>\n",
    "    <li> Mean, Median, Standard Deviation, Min, Max for numerical columns </li>\n",
    "    <li> Counts for categorical columns </li>\n",
    "    <li><b>Note:</b> Please use the CohortMetric object to store and manage the statistics for each cohort.</li>\n",
    "    </ul>\n",
    "<li> Does this data, at a high level, appear to be representative of the general population of the US in the late 70s? Does it now? Why or why not? </li>\n",
    "    <ul>\n",
    "    <li> This does not need to be a long answer or done in increadable depth. This question will generate some demographic profiles of people in the data - does that appear to be similar to the US population at the time? </li>\n",
    "    <li> Please state how you assessd this. (There isn't one correct answer, the process is more important than the answer) </li>\n",
    "    </ul>\n",
    "<li>Print the dictionary returned in a nice-ish way. (Don't go crazy, basic formatting)</li>\n",
    "</ol>"
   ]
  },
  {
   "cell_type": "code",
   "execution_count": null,
   "id": "a7663d64",
   "metadata": {},
   "outputs": [],
   "source": [
    "# 1 - Demo of function\n",
    "\n",
    "# 2 - Comparison (you could also use a markdown cell for this!!!)\n"
   ]
  },
  {
   "cell_type": "markdown",
   "id": "195005c2",
   "metadata": {},
   "source": [
    "### Part 3\n",
    "\n",
    "<ol>\n",
    "<li> Create a function in the .py file called effectSizer that takes in a dataframe, a numerical column name, a column name of a categorical value that is binary (two values only), and returns a dictionary of the categorical classes and their corresponding effect sizes on the numerical value. </li>\n",
    "<li> For 1978, which of Race, Hisp, MaritalStatus have the largest effect size. (Use Yes/True/1 for x1)</li>\n",
    "</ol>"
   ]
  },
  {
   "cell_type": "code",
   "execution_count": null,
   "id": "9faba7f1",
   "metadata": {},
   "outputs": [],
   "source": [
    "# 1. Demo of function\n",
    "\n",
    "# Effect sizes comparison"
   ]
  }
 ],
 "metadata": {
  "kernelspec": {
   "display_name": "ml_2",
   "language": "python",
   "name": "python3"
  },
  "language_info": {
   "codemirror_mode": {
    "name": "ipython",
    "version": 3
   },
   "file_extension": ".py",
   "mimetype": "text/x-python",
   "name": "python",
   "nbconvert_exporter": "python",
   "pygments_lexer": "ipython3",
   "version": "3.10.9"
  }
 },
 "nbformat": 4,
 "nbformat_minor": 5
}
